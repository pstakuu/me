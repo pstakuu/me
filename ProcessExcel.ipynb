{
  "cells": [
    {
      "cell_type": "markdown",
      "metadata": {
        "id": "view-in-github",
        "colab_type": "text"
      },
      "source": [
        "<a href=\"https://colab.research.google.com/github/pstakuu/me/blob/master/ProcessExcel.ipynb\" target=\"_parent\"><img src=\"https://colab.research.google.com/assets/colab-badge.svg\" alt=\"Open In Colab\"/></a>"
      ]
    },
    {
      "cell_type": "code",
      "execution_count": null,
      "id": "eb307e6e",
      "metadata": {
        "id": "eb307e6e"
      },
      "outputs": [],
      "source": [
        "import openpyxl\n",
        "from openpyxl import Workbook, load_workbook\n",
        "import xlsxwriter\n",
        "from xlsxwriter.utility import xl_col_to_name"
      ]
    },
    {
      "cell_type": "markdown",
      "id": "7524afd2",
      "metadata": {
        "id": "7524afd2"
      },
      "source": [
        "Inserted import xlsxwriter for cell_col_to_name() because I was trying to figure out how to map A-1, B-2, C-3, so that I could do dynamic column references(if you ever had more than 4 (information/naviga/commer/transac..)) based on the max_column. In a forum: https://stackoverflow.com/a/45177642 in the comment on this comment, someone posted in 2019 that there was already functions in the xlsxwriter.utility for doing this.. https://xlsxwriter.readthedocs.io/working_with_cell_notation.html#cell-utility"
      ]
    },
    {
      "cell_type": "code",
      "execution_count": null,
      "id": "01ba8d62",
      "metadata": {
        "id": "01ba8d62"
      },
      "outputs": [],
      "source": [
        "wb = load_workbook(r'C:\\users\\bboyd\\downloads\\finalAGAIN.xlsx')"
      ]
    },
    {
      "cell_type": "code",
      "execution_count": null,
      "id": "35f382e3",
      "metadata": {
        "id": "35f382e3"
      },
      "outputs": [],
      "source": [
        "ws = wb['Total Volumes']\n",
        "\n",
        "ws['C1'] = \"Informational\"\n",
        "ws['D1'] = \"Navigational\"\n",
        "ws['E1'] = \"Commercial\"\n",
        "ws['F1'] = \"Transactional\""
      ]
    },
    {
      "cell_type": "markdown",
      "id": "a3bbf4ce",
      "metadata": {
        "id": "a3bbf4ce"
      },
      "source": [
        "There was a TYPO from the original :) \n",
        "\n",
        "ws['E1'] = \"Transactional\"\n",
        "\n",
        "becomes\n",
        "\n",
        "ws['F1'] = \"Transactional\""
      ]
    },
    {
      "cell_type": "code",
      "execution_count": null,
      "id": "e97a624d",
      "metadata": {
        "id": "e97a624d"
      },
      "outputs": [],
      "source": [
        "#ws['C2'] = r'=COUNTIFS(Sheet1!A:A, $A2, Sheet1!D:D, \"*\"  & $D$1 & \"*\")'\n",
        "#reference from your script"
      ]
    },
    {
      "cell_type": "code",
      "execution_count": null,
      "id": "48398c0f",
      "metadata": {
        "id": "48398c0f"
      },
      "outputs": [],
      "source": [
        "lastRow = ws.max_row\n",
        "#i end up dropping these variables and just reference ws.max_row\n"
      ]
    },
    {
      "cell_type": "markdown",
      "id": "22767521",
      "metadata": {
        "id": "22767521"
      },
      "source": [
        "https://openpyxl.readthedocs.io/en/stable/api/openpyxl.worksheet.worksheet.html#openpyxl.worksheet.worksheet.Worksheet.max_row"
      ]
    },
    {
      "cell_type": "code",
      "execution_count": null,
      "id": "f81b2104",
      "metadata": {
        "id": "f81b2104"
      },
      "outputs": [],
      "source": [
        "for i in range(2,lastRow + 1):\n",
        "  #print(i)\n",
        "  keyword = ws.cell(row=i,column=1)\n",
        "  #print(keyword.value)\n",
        "\n",
        "  equation = f'=COUNTIFS(Sheet1!A:A, \"{keyword.value}\", Sheet1!D:D, \"*\"  & $D$1 & \"*\")'\n",
        "  #print(equation)\n",
        "  ws.cell(row=i,column=3).value = equation"
      ]
    },
    {
      "cell_type": "code",
      "execution_count": null,
      "id": "43fcd5ce",
      "metadata": {
        "id": "43fcd5ce"
      },
      "outputs": [],
      "source": [
        "#wb.save(r'C:\\users\\bboyd\\downloads\\finaltest.xlsx')"
      ]
    },
    {
      "cell_type": "markdown",
      "id": "46619046",
      "metadata": {
        "id": "46619046"
      },
      "source": [
        "There were two issues with the equation you had:\n",
        "\n",
        "1 -- this line returns a cell object:  keyword = ws.cell(row=i,column=1)\n",
        "\n",
        "    https://openpyxl.readthedocs.io/en/stable/api/openpyxl.worksheet.worksheet.html#openpyxl.worksheet.worksheet.Worksheet.cell\n",
        "    Return type:\t\n",
        "    openpyxl.cell.cell.Cell\n",
        "    \n",
        "The cell object has a values property:   #https://openpyxl.readthedocs.io/en/stable/api/openpyxl.cell.cell.html#openpyxl.cell.cell.Cell.value3\n",
        "\n",
        "I found that by inserting the print(i), print(keyword), and print(equation) lines into the function.  As soon as I did that I saw a <Cell > that was being inserted and that was breaking the Excel sheet.\n",
        "    \n",
        "I then replaced the print(keyword) with print(keyword.value) to make sure it was pulling the right data.\n",
        "    \n",
        "Then i updated the equation with {keyword.value} instead of {keyword}\n",
        "\n",
        "    \n",
        "2 -- The equation string needed two adjustments\n",
        "    If you use single quotes, you are declaring the string as a 'string literal', which means \"python, don't interpolate this\", i.e., don't substitute variables for what you think are varibles in here.\n",
        "    \n",
        "We used the r'' for raw string literal so that we didn't have to escape all the special characters (\" * $ & ) etc..so that by the time python got done with the string, Excel would see it right.. but now we are introducing variables into it... \n",
        "    \n",
        "soo...\n",
        "f'' string for Python Literal String Interpolation: \n",
        "https://www.geeksforgeeks.org/python-string-interpolation/\n",
        "\n",
        "And then with that it worked! But not fully... I had to add double quotes around the variable so that the quotes were written into the formula: \"{keyword.value}\".\n",
        "    \n",
        "    "
      ]
    },
    {
      "cell_type": "code",
      "execution_count": null,
      "id": "cfe1d811",
      "metadata": {
        "id": "cfe1d811"
      },
      "outputs": [],
      "source": [
        "lastCol = ws.max_column"
      ]
    },
    {
      "cell_type": "code",
      "execution_count": null,
      "id": "a0d7596a",
      "metadata": {
        "id": "a0d7596a",
        "outputId": "6b074ea9-c994-4f10-f325-f3ed99aee977"
      },
      "outputs": [
        {
          "name": "stdout",
          "output_type": "stream",
          "text": [
            "3\n",
            "4\n",
            "5\n",
            "6\n"
          ]
        }
      ],
      "source": [
        "for j in range(3,lastCol+1):\n",
        "    print(j)"
      ]
    },
    {
      "cell_type": "code",
      "execution_count": null,
      "id": "b0cecd89",
      "metadata": {
        "id": "b0cecd89",
        "outputId": "9a4e20e8-0806-4734-8191-cbfce98228ae"
      },
      "outputs": [
        {
          "data": {
            "text/plain": [
              "6"
            ]
          },
          "execution_count": 68,
          "metadata": {},
          "output_type": "execute_result"
        }
      ],
      "source": [
        "lastCol\n",
        "#i end up dropping these variables and just reference ws.max_column"
      ]
    },
    {
      "cell_type": "code",
      "execution_count": null,
      "id": "8e5cb877",
      "metadata": {
        "id": "8e5cb877",
        "outputId": "d37cccdd-9ac2-4f37-ff7d-54a70c79ec50"
      },
      "outputs": [
        {
          "name": "stdout",
          "output_type": "stream",
          "text": [
            "3\n",
            "D\n",
            "4\n",
            "E\n",
            "5\n",
            "F\n",
            "6\n",
            "G\n"
          ]
        }
      ],
      "source": [
        "for j in range(3,lastCol+1):\n",
        "    print(j)\n",
        "    currentColName = xl_col_to_name(j)\n",
        "    print (currentColName)\n",
        "    "
      ]
    },
    {
      "cell_type": "markdown",
      "id": "d2ba44bb",
      "metadata": {
        "id": "d2ba44bb"
      },
      "source": [
        "Testing the output\n"
      ]
    },
    {
      "cell_type": "code",
      "execution_count": null,
      "id": "30720288",
      "metadata": {
        "id": "30720288"
      },
      "outputs": [],
      "source": [
        "for j in range(3,lastCol+1):\n",
        "   # print(j)\n",
        "    currentColName = xl_col_to_name(j - 1)\n",
        "   # print (currentColName)\n",
        "    for i in range(2,lastRow + 1):\n",
        "      #print(i)\n",
        "      keyword = ws.cell(row=i,column=1)\n",
        "      #print(keyword.value)\n",
        "      \n",
        "      equation = f'=COUNTIFS(Sheet1!A:A, \"{keyword.value}\", Sheet1!D:D, \"*\"  & ${currentColName}$1 & \"*\")'\n",
        "      #print(equation)\n",
        "      ws.cell(row=i,column=j).value = equation"
      ]
    },
    {
      "cell_type": "markdown",
      "id": "4b8df8cd",
      "metadata": {
        "id": "4b8df8cd"
      },
      "source": [
        "So now I've introduced the extra J loop to go through columns, and use the currentColName to map the column # to column letter, so that I can reference that in the equation.  Going from $D$1 to ${currentColName}$1.\n",
        "The last thing to do is to update the last cell update to write the function, and use the current value of j instead of hardcoded column #"
      ]
    },
    {
      "cell_type": "code",
      "execution_count": null,
      "id": "53e04d5c",
      "metadata": {
        "id": "53e04d5c"
      },
      "outputs": [],
      "source": [
        "wb.save(r'C:\\users\\bboyd\\downloads\\finaltest.xlsx')"
      ]
    },
    {
      "cell_type": "code",
      "execution_count": null,
      "id": "38a5df94",
      "metadata": {
        "id": "38a5df94"
      },
      "outputs": [],
      "source": [
        "import openpyxl\n",
        "from openpyxl import Workbook, load_workbook\n",
        "import xlsxwriter\n",
        "from xlsxwriter.utility import xl_col_to_name\n",
        "\n",
        "wb = load_workbook(r'C:\\users\\bboyd\\downloads\\finaltest.xlsx')\n",
        "ws = wb['Total Volumes']\n",
        "\n",
        "ws['C1'] = \"Informational\"\n",
        "ws['D1'] = \"Navigational\"\n",
        "ws['E1'] = \"Commercial\"\n",
        "ws['F1'] = \"Transactional\"\n",
        "\n",
        "\n",
        "for j in range(3,ws.max_column + 1):\n",
        "    currentColName = xl_col_to_name(j -1 )\n",
        "    for i in range(2,ws.max_row + 1):\n",
        "      keyword = ws.cell(row=i,column=1)      \n",
        "      equation = f'=COUNTIFS(Sheet1!A:A, \"{keyword.value}\", Sheet1!D:D, \"*\"  & ${currentColName}$1 & \"*\")'\n",
        "      ws.cell(row=i,column=j).value = equation\n",
        "\n",
        "wb.save(r'C:\\users\\bboyd\\downloads\\finalAGAIN.xlsx')"
      ]
    },
    {
      "cell_type": "markdown",
      "id": "60916524",
      "metadata": {
        "id": "60916524"
      },
      "source": [
        "I realized I needed to subtract 1 from j in converting the currentColName from the # since it's 0 base"
      ]
    },
    {
      "cell_type": "code",
      "execution_count": null,
      "id": "cfb40819",
      "metadata": {
        "id": "cfb40819"
      },
      "outputs": [],
      "source": []
    }
  ],
  "metadata": {
    "kernelspec": {
      "display_name": "Python 3 (ipykernel)",
      "language": "python",
      "name": "python3"
    },
    "language_info": {
      "codemirror_mode": {
        "name": "ipython",
        "version": 3
      },
      "file_extension": ".py",
      "mimetype": "text/x-python",
      "name": "python",
      "nbconvert_exporter": "python",
      "pygments_lexer": "ipython3",
      "version": "3.9.12"
    },
    "colab": {
      "provenance": [],
      "include_colab_link": true
    }
  },
  "nbformat": 4,
  "nbformat_minor": 5
}